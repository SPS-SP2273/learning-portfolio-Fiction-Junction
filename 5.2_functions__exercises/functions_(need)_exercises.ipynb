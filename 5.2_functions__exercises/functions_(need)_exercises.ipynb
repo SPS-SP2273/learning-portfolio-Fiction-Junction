{
 "cells": [
  {
   "attachments": {},
   "cell_type": "markdown",
   "id": "123456",
   "metadata": {},
   "source": [
    "<div style=\"text-align:left;font-size:2em\"><span style=\"font-weight:bolder;font-size:1.25em\">SP2273 | Learning Portfolio</span><br><br><span style=\"font-weight:bold;color:darkred\">Functions (Need) Exercises</span></div>"
   ]
  },
  {
   "cell_type": "markdown",
   "id": "bf47c6f6",
   "metadata": {},
   "source": [
    "### Exercise 1\n",
    "\n",
    "The following code works as expected despite not having an else statement. Please use a Markdown cell to explain why?\n",
    "\n",
    "There are two return outputs for two possibilities:\n",
    "- if 'name' is Batman, *return terminates the function*\n",
    "- every other possibily that 'name' can be, just that there will not be a specialised message in this case. *Likewise, return terminates the function*\n",
    "\n",
    "*If there were a print instead of return being called, the function will not terminate even in the case of 'batman' and both print statements will be called thereafter.*\n",
    "\n",
    "\n"
   ]
  },
  {
   "cell_type": "markdown",
   "id": "d367b1f3",
   "metadata": {
    "vscode": {
     "languageId": "plaintext"
    }
   },
   "source": [
    "### Exercise 2\n",
    "Write a Python function named calculate_bmi.\n",
    "\n",
    "The function should take two parameters:\n",
    "weight (in kilograms) and height (in meters).\n",
    "The function should calculate the BMI (Body Mass Index) using the formula BMI = weight / (height ** 2).\n",
    "Based on the calculated BMI, the function should return a string indicating the BMI category based on the following criteria:\n",
    "\n",
    "Category\tBMI Range\n",
    "Underweight\tBMI less than 18.5\n",
    "Normal weight\tBMI between 18.5 and 24.9\n",
    "Overweight\tBMI between 25 and 29.9\n",
    "Obese\tBMI 30 or more"
   ]
  },
  {
   "cell_type": "code",
   "execution_count": null,
   "id": "f829cac8",
   "metadata": {},
   "outputs": [
    {
     "name": "stdout",
     "output_type": "stream",
     "text": [
      "Normal weight\n"
     ]
    }
   ],
   "source": [
    "def calculate_bmi(weight, height):\n",
    "\n",
    "    if not isinstance(weight, int) or not isinstance(height, int): # weight or height are not ints\n",
    "        print(f'Either {weight} or {height} is not an int')\n",
    "        return\n",
    "    \n",
    "    if weight == 0 or height == 0: # weight or height is zero\n",
    "        print(f'Either {weight} or {height} is zero')\n",
    "        return\n",
    "\n",
    "    bmi = weight / (height ** 2)\n",
    "\n",
    "    if bmi < 18.5:\n",
    "        print(\"Underweight\")\n",
    "    if bmi >= 18.5 and bmi <= 24.9:\n",
    "        print(\"Normal weight\")\n",
    "    if bmi >= 25 and bmi <= 29.9:\n",
    "        print(\"Overweight\")\n",
    "    if bmi >= 30:\n",
    "        print(\"Obese\")\n",
    "    \n",
    "    return"
   ]
  },
  {
   "cell_type": "markdown",
   "id": "1b64b853",
   "metadata": {},
   "source": [
    "### Exercise 3\n",
    "Write a function that accepts an integer n and returns its factorial. Ensure that your function gracefully handles negative numbers."
   ]
  },
  {
   "cell_type": "code",
   "execution_count": null,
   "id": "a07128d0",
   "metadata": {},
   "outputs": [
    {
     "name": "stdout",
     "output_type": "stream",
     "text": [
      "1.5 is not a valid number\n"
     ]
    }
   ],
   "source": [
    "def fact(n):\n",
    "    if n < 1 or not isinstance(n, int): # rejects negative and non int numbers\n",
    "        print(f\"{n} is not a valid number\")\n",
    "        return\n",
    "    \n",
    "    if n == 0:\n",
    "        return 1\n",
    "\n",
    "    if n == 1:\n",
    "        return n\n",
    "    \n",
    "    else:\n",
    "        return n * fact(n-1)\n",
    "    \n",
    "fact(1.5)"
   ]
  },
  {
   "cell_type": "code",
   "execution_count": null,
   "id": "c87b119f",
   "metadata": {},
   "outputs": [],
   "source": []
  }
 ],
 "metadata": {
  "kernelspec": {
   "display_name": "base",
   "language": "python",
   "name": "python3"
  },
  "language_info": {
   "codemirror_mode": {
    "name": "ipython",
    "version": 3
   },
   "file_extension": ".py",
   "mimetype": "text/x-python",
   "name": "python",
   "nbconvert_exporter": "python",
   "pygments_lexer": "ipython3",
   "version": "3.13.5"
  },
  "toc": {
   "base_numbering": 1,
   "nav_menu": {},
   "number_sections": true,
   "sideBar": true,
   "skip_h1_title": false,
   "title_cell": "Table of Contents",
   "title_sidebar": "Contents",
   "toc_cell": false,
   "toc_position": {},
   "toc_section_display": true,
   "toc_window_display": false
  }
 },
 "nbformat": 4,
 "nbformat_minor": 5
}
