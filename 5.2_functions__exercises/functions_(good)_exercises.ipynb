{
 "cells": [
  {
   "attachments": {},
   "cell_type": "markdown",
   "id": "123456",
   "metadata": {},
   "source": [
    "<div style=\"text-align:left;font-size:2em\"><span style=\"font-weight:bolder;font-size:1.25em\">SP2273 | Learning Portfolio</span><br><br><span style=\"font-weight:bold;color:darkred\">Functions (Good) Exercises</span></div>"
   ]
  },
  {
   "cell_type": "markdown",
   "id": "fcda4438",
   "metadata": {},
   "source": [
    "### Exercise 1\n",
    "\n",
    "Develop a function named convert_celsius() to convert temperatures from Celsius to either Fahrenheit or Kelvin.\n",
    "The function should take two arguments:\n",
    "* temperature_celsius: The temperature in Celsius.\n",
    "* target_scale (string): The target scale for conversion, with the default value set to 'Fahrenheit'.\n",
    "* The function should return the temperature in Kelvin if target_scale is 'Kelvin'; otherwise, it should return the temperature in Fahrenheit."
   ]
  },
  {
   "cell_type": "code",
   "execution_count": 6,
   "id": "a91bc094",
   "metadata": {},
   "outputs": [],
   "source": [
    "def convert_celsius(temperature_celsius, target_scale='Fahrenheit'):\n",
    "    return temperature_celsius + 273.15 if target_scale == 'Kelvin' else temperature_celsius * 9/5 + 32"
   ]
  },
  {
   "cell_type": "markdown",
   "id": "fbb042b1",
   "metadata": {},
   "source": [
    "### Exercise 2\n",
    "Develop a function called convert_fahrenheit() for converting temperatures from Fahrenheit to either Celsius or Kelvin.\n",
    "The function should take two arguments:\n",
    "* temperature_fahrenheit: The temperature in Fahrenheit.\n",
    "* target_scale (string): The target scale for conversion, defaulting to 'Celsius'.\n",
    "* The function should return the temperature in Kelvin if target_scale is 'Kelvin'; otherwise, return it in Celsius."
   ]
  },
  {
   "cell_type": "code",
   "execution_count": 7,
   "id": "3fdc3f0f",
   "metadata": {},
   "outputs": [],
   "source": [
    "def convert_fahrenheit(temperature_fahrenheit, target_scale='Celsius'):\n",
    "    return (temperature_fahrenheit - 32) * 5/9 + 273.15 if target_scale == 'Kelvin' else temperature_fahrenheit - 32 * 5/9"
   ]
  },
  {
   "cell_type": "markdown",
   "id": "d27f910e",
   "metadata": {},
   "source": [
    "### Exercise 3\n",
    "* Implement a function named convert_temperature() to perform general temperature conversions.\n",
    "The function should take three arguments:\n",
    "* temperature: The temperature to be converted.\n",
    "* source_scale (string): The scale of the input temperature (either 'Celsius', 'Fahrenheit', or 'Kelvin').\n",
    "* target_scale (string): The desired scale for the output temperature.\n",
    "Remember to reuse your previous functions!"
   ]
  },
  {
   "cell_type": "code",
   "execution_count": null,
   "id": "07b0e0e2",
   "metadata": {},
   "outputs": [
    {
     "data": {
      "text/plain": [
       "-233.14999999999998"
      ]
     },
     "execution_count": 11,
     "metadata": {},
     "output_type": "execute_result"
    }
   ],
   "source": [
    "def convert_temperature(temperature, source_scale, target_scale):\n",
    "    if source_scale == target_scale: # source and target are the same\n",
    "        return temperature\n",
    "    \n",
    "    elif source_scale == 'Celsius':\n",
    "        return convert_celsius(temperature, target_scale)\n",
    "    \n",
    "    elif source_scale == 'Fahrenheit':\n",
    "        return convert_fahrenheit(temperature, target_scale)\n",
    "    \n",
    "    elif source_scale == 'Kelvin':\n",
    "        return temperature - 273.15 if target_scale == 'Celsius' else (temperature - 273.15) * 9/5 + 32"
   ]
  },
  {
   "cell_type": "code",
   "execution_count": null,
   "id": "9a5d6c6b",
   "metadata": {},
   "outputs": [],
   "source": []
  }
 ],
 "metadata": {
  "kernelspec": {
   "display_name": "base",
   "language": "python",
   "name": "python3"
  },
  "language_info": {
   "codemirror_mode": {
    "name": "ipython",
    "version": 3
   },
   "file_extension": ".py",
   "mimetype": "text/x-python",
   "name": "python",
   "nbconvert_exporter": "python",
   "pygments_lexer": "ipython3",
   "version": "3.13.5"
  },
  "toc": {
   "base_numbering": 1,
   "nav_menu": {},
   "number_sections": true,
   "sideBar": true,
   "skip_h1_title": false,
   "title_cell": "Table of Contents",
   "title_sidebar": "Contents",
   "toc_cell": false,
   "toc_position": {},
   "toc_section_display": true,
   "toc_window_display": false
  }
 },
 "nbformat": 4,
 "nbformat_minor": 5
}
