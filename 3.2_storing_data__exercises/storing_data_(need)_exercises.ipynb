{
 "cells": [
  {
   "attachments": {},
   "cell_type": "markdown",
   "id": "123456",
   "metadata": {},
   "source": [
    "<div style=\"text-align:left;font-size:2em\"><span style=\"font-weight:bolder;font-size:1.25em\">SP2273 | Learning Portfolio</span><br><br><span style=\"font-weight:bold;color:darkred\">Storing Data (Need) Exercises</span></div>"
   ]
  },
  {
   "cell_type": "markdown",
   "id": "3fc960cb",
   "metadata": {},
   "source": [
    "### Exercise 1 ###\n",
    "1. Both use indexing and store multiple things\n",
    "2. Arrays can only consist of a single data type<br>\n",
    "    concatenatning lists combines their respective lengths, while doing so with arrays adds them up element-wise\n",
    "3. Dicts have key-value pairs, where a value is accessible through its respective key"
   ]
  },
  {
   "cell_type": "markdown",
   "id": "d15d431a",
   "metadata": {},
   "source": [
    "### Exercise 2 ###\n",
    "Print out all elements with an odd number"
   ]
  },
  {
   "cell_type": "code",
   "execution_count": 1,
   "id": "b8dba200",
   "metadata": {},
   "outputs": [
    {
     "name": "stdout",
     "output_type": "stream",
     "text": [
      "a1\n",
      "c3\n",
      "e5\n",
      "g7\n",
      "i9\n"
     ]
    }
   ],
   "source": [
    "py_list = [\"a1\", \"b2\", \"c3\", \"d4\", \"e5\", \"f6\", \"g7\", \"h8\", \"i9\", \"j10\"]\n",
    "                    # Prints 'a1'\n",
    "                    # Prints 'c3'\n",
    "                    # Prints 'e5'\n",
    "                    # Prints 'g7'\n",
    "\n",
    "for i in range(0,9,2):\n",
    "    print(py_list[i])"
   ]
  },
  {
   "cell_type": "markdown",
   "id": "e5b48f34",
   "metadata": {},
   "source": [
    "### Exercise 3 ###\n",
    "Access and print the element at index 4 using forward indexing.\n",
    "Access and print the element at index 4 from the end of the list using reverse indexing."
   ]
  },
  {
   "cell_type": "code",
   "execution_count": 2,
   "id": "4a9ba7d7",
   "metadata": {},
   "outputs": [
    {
     "name": "stdout",
     "output_type": "stream",
     "text": [
      "Boron\n",
      "Boron\n"
     ]
    }
   ],
   "source": [
    "elements = ['Hydrogen',\n",
    "            'Helium', 'Lithium',\n",
    "            'Beryllium', 'Boron', 'Carbon',\n",
    "            'Nitrogen', 'Oxygen',\n",
    "            'Fluorine',\n",
    "            'Neon']\n",
    "\n",
    "print(elements[4])\n",
    "print(elements[-6])"
   ]
  },
  {
   "cell_type": "markdown",
   "id": "809d747d",
   "metadata": {},
   "source": [
    "### Exercise 4 ###\n",
    "Use the concepts you learned in this chapter to determine the number of 1’s in the following list of numbers."
   ]
  },
  {
   "cell_type": "code",
   "execution_count": 3,
   "id": "7f042e76",
   "metadata": {},
   "outputs": [
    {
     "name": "stdout",
     "output_type": "stream",
     "text": [
      "9\n"
     ]
    }
   ],
   "source": [
    "numbers=[45, 60, 1, 30, 96, 1, 96, 57, 16, 1,\n",
    "        99, 62, 86, 43, 42, 60, 59, 1, 1, 35,\n",
    "        83, 47, 34, 28, 68, 23, 22, 92, 1, 79,\n",
    "        1, 29, 94, 72, 46, 47, 1, 74, 32, 20,\n",
    "        8, 37, 35, 1, 89, 29, 86, 19, 43, 61]                  \n",
    "\n",
    "count = 0\n",
    "for elem in numbers:\n",
    "    if elem == 1:\n",
    "        count += 1\n",
    "print(count)"
   ]
  },
  {
   "cell_type": "markdown",
   "id": "bf8c521f",
   "metadata": {},
   "source": [
    "### Exercise 5 ###"
   ]
  },
  {
   "cell_type": "code",
   "execution_count": 15,
   "id": "6e5a9257",
   "metadata": {},
   "outputs": [
    {
     "name": "stdout",
     "output_type": "stream",
     "text": [
      "The mean of x1 is 38.5\n",
      "The mean of x2 is 302.5\n",
      "The standard deviation of x1 is 32.41990129534635\n",
      "The standard deviation of x2 is 326.0893282522444\n",
      "220825\n",
      "The Pearson Correlation Coefficient is 0.9871796626270704\n",
      "Confirm answer:[[1.         0.98717966]\n",
      " [0.98717966 1.        ]]\n"
     ]
    }
   ],
   "source": [
    "import numpy as np\n",
    "x_1 = [1, 4, 9, 16, 25, 36, 49, 64, 81, 100]\n",
    "x_2 = [1, 8, 27, 64, 125, 216, 343, 512, 729, 1000]\n",
    "\n",
    "x1_mean = np.mean(x_1)\n",
    "x2_mean = np.mean(x_2)\n",
    "x1_sd = np.std(x_1)\n",
    "x2_sd = np.std(x_2)\n",
    "\n",
    "print(f\"The mean of x1 is {x1_mean}\")\n",
    "print(f\"The mean of x2 is {x2_mean}\")\n",
    "\n",
    "print(f\"The standard deviation of x1 is {x1_sd}\")\n",
    "print(f\"The standard deviation of x2 is {x2_sd}\")\n",
    "\n",
    "n = len(x_1)\n",
    "sum_xy = sum(np.array(x_1) * np.array(x_2))\n",
    "print(sum_xy)\n",
    "r = (n * sum_xy - sum(x_1) * sum(x_2)) / (x1_sd * n * x2_sd * n)\n",
    "print(f\"The Pearson Correlation Coefficient is {r}\")\n",
    "print(f\"Confirm answer:{np.corrcoef(np.array(x_1), np.array(x_2))}\")\n"
   ]
  }
 ],
 "metadata": {
  "kernelspec": {
   "display_name": "base",
   "language": "python",
   "name": "python3"
  },
  "language_info": {
   "codemirror_mode": {
    "name": "ipython",
    "version": 3
   },
   "file_extension": ".py",
   "mimetype": "text/x-python",
   "name": "python",
   "nbconvert_exporter": "python",
   "pygments_lexer": "ipython3",
   "version": "3.13.5"
  },
  "toc": {
   "base_numbering": 1,
   "nav_menu": {},
   "number_sections": true,
   "sideBar": true,
   "skip_h1_title": false,
   "title_cell": "Table of Contents",
   "title_sidebar": "Contents",
   "toc_cell": false,
   "toc_position": {},
   "toc_section_display": true,
   "toc_window_display": false
  }
 },
 "nbformat": 4,
 "nbformat_minor": 5
}
