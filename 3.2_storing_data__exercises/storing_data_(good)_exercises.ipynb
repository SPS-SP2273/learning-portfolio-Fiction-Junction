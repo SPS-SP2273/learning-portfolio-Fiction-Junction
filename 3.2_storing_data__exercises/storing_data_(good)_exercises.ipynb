{
 "cells": [
  {
   "attachments": {},
   "cell_type": "markdown",
   "id": "123456",
   "metadata": {},
   "source": [
    "<div style=\"text-align:left;font-size:2em\"><span style=\"font-weight:bolder;font-size:1.25em\">SP2273 | Learning Portfolio</span><br><br><span style=\"font-weight:bold;color:darkred\">Storing Data (Good) Exercises</span></div>"
   ]
  },
  {
   "cell_type": "markdown",
   "id": "6e17d2cd",
   "metadata": {},
   "source": [
    "### Exercise 1\n",
    "\n",
    "|Term|Description|\n",
    "|----|-----------|\n",
    "|Subsetting|Creating a subset of data from a larger set|\n",
    "|Indexing|Marking an element in stored data based on its position|\n",
    "|Slicing|Removing an element subset from a larger series of elements based on the former's index within the latter|\n",
    "|Masking|Replaces elements of stored data, or creates a new \"Storage\" of the shape shape, with Boolean values instead of the original based on some chosen condition|"
   ]
  },
  {
   "cell_type": "markdown",
   "id": "e8028d7b",
   "metadata": {},
   "source": [
    "### Exercise 2\n",
    "```\n",
    "np_array_2d = np.array([[1, \"A\"], [3, \"C\"], [2, \"B\"], [4, \"D\"],\n",
    "                        [5, \"E\"], [7, \"G\"], [6, \"F\"], [8, \"H\"],\n",
    "                        [10, \"J\"], [9, \"I\"]])\n",
    "```\n",
    "\n",
    "Use masking to subset the letters that correspond to the odd numbers. I.e., get the result [A, C, E, G, I].\n",
    "\n",
    "This is a slightly tricky problem because arrays are fussy about type. So, let me give you a recipe to solve this problem.\n",
    "\n",
    "Subset all the first elements.\n",
    "You should get array(['1', '3', '2', ..., '10', '9'])\n",
    "Convert this to integers using astype(int)\n",
    "You must look up how astype() works.\n",
    "Use % to get the remainder for division by 2.\n",
    "You should get array([1, 1, 0, ..., 0, 1]).\n",
    "Use the previous result to create a mask that checks if the remainder is zero or not\n",
    "You should get array([True, True, False, ..., False, True]).\n",
    "Now you have identified the locations of the odd numbers.\n",
    "Use the mask and extract the corresponding second elements."
   ]
  },
  {
   "cell_type": "code",
   "execution_count": 11,
   "id": "cd4f77c3",
   "metadata": {},
   "outputs": [
    {
     "name": "stdout",
     "output_type": "stream",
     "text": [
      "['A', 'C', 'E', 'G', 'I']\n"
     ]
    }
   ],
   "source": [
    "import numpy as np\n",
    "\n",
    "np_array_2d = np.array([[1, \"A\"], [3, \"C\"], [2, \"B\"], [4, \"D\"],\n",
    "                        [5, \"E\"], [7, \"G\"], [6, \"F\"], [8, \"H\"],\n",
    "                        [10, \"J\"], [9, \"I\"]])\n",
    "lst = []\n",
    "for pair in np_array_2d: # iterate through pairs in array\n",
    "    lst.append(pair[0]) # obtain number\n",
    "arr = np.array(lst).astype(int) % 2 # convert list to array then int then modulus for binary\n",
    "arr.astype(bool) # convert binary to bool \n",
    "\n",
    "res = []\n",
    "for i in range(len(arr)): # iterate through the indexes of boolean array\n",
    "    if arr[i] == 1: # only acess odd numbers\n",
    "        res.append(str(np_array_2d[i, 1])) # append corresponding letter to res\n",
    "    \n",
    "print(res)\n",
    "\n"
   ]
  },
  {
   "cell_type": "markdown",
   "id": "479391a7",
   "metadata": {},
   "source": [
    "### Exercise 3\n",
    "\n",
    "```\n",
    "[[66, 50, 57, -1, -1],\n",
    " [92, -1, 88, -1, -1],\n",
    " [75, -1, -1, 76, -1],\n",
    " [-1, 51, 87, -1, -1],\n",
    " [71, -1, 67, -1, 69]]\n",
    "```\n",
    "\n",
    "Consider the 2D array shown above. Using your knowledge of NumPy masking, change:\n",
    "\n",
    "1. values below 50 to -1,\n",
    "2. values above 50 to +1, and\n",
    "3. values equal to 50 to 0.\n",
    "\n",
    "You should end up with:\n",
    "```\n",
    "[[ 1  0  1 -1 -1]\n",
    " [ 1 -1  1 -1 -1]\n",
    " [ 1 -1 -1  1 -1]\n",
    " [-1  1  1 -1 -1]\n",
    " [ 1 -1  1 -1  1]]\n",
    "```"
   ]
  },
  {
   "cell_type": "code",
   "execution_count": null,
   "id": "da232822",
   "metadata": {},
   "outputs": [
    {
     "name": "stdout",
     "output_type": "stream",
     "text": [
      "[[ 1  0  1 -1 -1]\n",
      " [ 1 -1  1 -1 -1]\n",
      " [ 1 -1 -1  1 -1]\n",
      " [-1  1  1 -1 -1]\n",
      " [ 1 -1  1 -1  1]]\n"
     ]
    }
   ],
   "source": [
    "import numpy as np\n",
    "\n",
    "arr = np.array([[66, 50, 57, -1, -1],\n",
    " [92, -1, 88, -1, -1],\n",
    " [75, -1, -1, 76, -1],\n",
    " [-1, 51, 87, -1, -1],\n",
    " [71, -1, 67, -1, 69]])\n",
    "\n",
    "n = 50\n",
    "arr[arr == n] = 0 # first mask to account for 50\n",
    "arr[(arr < 50) & (arr != 0)] = -1 # second mask, exlcude case of 0 signal\n",
    "arr[arr > 50] = 1 # remainder cases\n",
    "print(arr)\n",
    "\n",
    "\n",
    "\n"
   ]
  },
  {
   "cell_type": "code",
   "execution_count": null,
   "id": "4e32586a",
   "metadata": {},
   "outputs": [],
   "source": []
  }
 ],
 "metadata": {
  "kernelspec": {
   "display_name": "base",
   "language": "python",
   "name": "python3"
  },
  "language_info": {
   "codemirror_mode": {
    "name": "ipython",
    "version": 3
   },
   "file_extension": ".py",
   "mimetype": "text/x-python",
   "name": "python",
   "nbconvert_exporter": "python",
   "pygments_lexer": "ipython3",
   "version": "3.13.5"
  },
  "toc": {
   "base_numbering": 1,
   "nav_menu": {},
   "number_sections": true,
   "sideBar": true,
   "skip_h1_title": false,
   "title_cell": "Table of Contents",
   "title_sidebar": "Contents",
   "toc_cell": false,
   "toc_position": {},
   "toc_section_display": true,
   "toc_window_display": false
  }
 },
 "nbformat": 4,
 "nbformat_minor": 5
}
