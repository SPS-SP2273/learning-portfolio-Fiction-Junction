{
 "cells": [
  {
   "attachments": {},
   "cell_type": "markdown",
   "id": "123456",
   "metadata": {},
   "source": [
    "<div style=\"text-align:left;font-size:2em\"><span style=\"font-weight:bolder;font-size:1.25em\">SP2273 | Learning Portfolio</span><br><br><span style=\"font-weight:bold;color:darkred\">Files, Folders & OS (Need) Exercises</span></div>"
   ]
  },
  {
   "cell_type": "code",
   "execution_count": 2,
   "id": "3f7dd200",
   "metadata": {},
   "outputs": [],
   "source": [
    "months = {\n",
    "'jan': '01', 'feb': '02', 'mar': '03',\n",
    "'apr': '04', 'may': '05', 'jun': '06',\n",
    "'jul': '07', 'aug': '08', 'sep': '09',\n",
    "'oct': '10', 'nov': '11', 'dec': '12'\n",
    "}"
   ]
  },
  {
   "cell_type": "markdown",
   "id": "6e968f32",
   "metadata": {},
   "source": [
    "### Exercise 1\n",
    "We like to convert the filename to a more useful numerical format. Specifically, we want to convert month-date-city.txt. (i.e. may-10-singapore.txt) to a mm-dd-city.txt (i.e. 05-10-singapore.txt) format.\n",
    "\n",
    "Using the following dictionary (or otherwise), write a snippet of Python code to convert 'oct-08_singapore.txt' to 10-08-singapore.txt.\n",
    "\n",
    "{\n",
    "'jan': '01', 'feb': '02', 'mar': '03',\n",
    "'apr': '04', 'may': '05', 'jun': '06',\n",
    "'jul': '07', 'aug': '08', 'sep': '09',\n",
    "'oct': '10', 'nov': '11', 'dec': '12'\n",
    "}"
   ]
  },
  {
   "cell_type": "code",
   "execution_count": 10,
   "id": "82961bd0",
   "metadata": {},
   "outputs": [
    {
     "name": "stdout",
     "output_type": "stream",
     "text": [
      "10-08-singapore.txt\n"
     ]
    }
   ],
   "source": [
    "file = 'oct-08_singapore.txt'\n",
    "# file = 'NOV-1_singapore.txt'\n",
    "\n",
    "file_name = file.split('.')[0].lower() # actual file name without extension, account for casing\n",
    "\n",
    "month = file_name.split('-')[0]\n",
    "num_month = months[month] # numerical month from dict\n",
    "\n",
    "date = file_name.split('_')[0].split('-')[1]\n",
    "num_date = date if len(date) == 2 else '0' + date # if date is single digit\n",
    "\n",
    "country_ext = file.split('_')[1].lower() # country and extension from original name, account for casing\n",
    "print('-'.join((num_month, num_date, country_ext)))"
   ]
  },
  {
   "cell_type": "markdown",
   "id": "200be68b",
   "metadata": {},
   "source": [
    "### Exercise 2\n",
    "Incorporate your previous code into a function named rename_my_file(old_file_name) that accepts the old filename as the argument and returns the new file name."
   ]
  },
  {
   "cell_type": "code",
   "execution_count": 11,
   "id": "640ce48d",
   "metadata": {},
   "outputs": [],
   "source": [
    "def rename_my_file(old_file_name): \n",
    "    \"\"\" returns a string of new file name \"\"\"\n",
    "\n",
    "    file_name = old_file_name.split('.')[0].lower() # actual file name without extension, account for casing\n",
    "\n",
    "    month = file_name.split('-')[0]\n",
    "    num_month = months[month] # numerical month from dict\n",
    "\n",
    "    date = file_name.split('_')[0].split('-')[1]\n",
    "    num_date = date if len(date) == 2 else '0' + date # if date is single digit\n",
    "\n",
    "    country_ext = file.split('_')[1].lower() # country and extension from original name, account for casing\n",
    "    return('-'.join((num_month, num_date, country_ext)))\n",
    "    \n",
    "    "
   ]
  },
  {
   "cell_type": "markdown",
   "id": "2c600a36",
   "metadata": {},
   "source": [
    "### Exercise 3\n",
    "Use a for loop to apply the function rename_my_file() to the file list below.\n",
    "\n",
    "```\n",
    "['oct-08_singapore.txt', 'jul-10_cairo.txt', 'may-15_dhaka.txt',\n",
    " 'may-13_cairo.txt', 'oct-21_cairo.txt', 'jan-10_singapore.txt',\n",
    " 'jun-20_tokyo.txt', 'aug-06_jakarta.txt', 'dec-21_karachi.txt',\n",
    " 'jan-01_tokyo.txt']\n",
    " ```\n",
    "\n",
    " Print out your progress in the form old-file-name ----> new-file-name"
   ]
  },
  {
   "cell_type": "code",
   "execution_count": 12,
   "id": "9ff7ee8a",
   "metadata": {},
   "outputs": [
    {
     "name": "stdout",
     "output_type": "stream",
     "text": [
      "oct-08_singapore.txt > 10-08-singapore.txt\n",
      "jul-10_cairo.txt > 07-10-cairo.txt\n",
      "may-15_dhaka.txt > 05-15-dhaka.txt\n",
      "may-13_cairo.txt > 05-13-cairo.txt\n",
      "oct-21_cairo.txt > 10-21-cairo.txt\n",
      "jan-10_singapore.txt > 01-10-singapore.txt\n",
      "jun-20_tokyo.txt > 06-20-tokyo.txt\n",
      "aug-06_jakarta.txt > 08-06-jakarta.txt\n",
      "dec-21_karachi.txt > 12-21-karachi.txt\n",
      "jan-01_tokyo.txt > 01-01-tokyo.txt\n"
     ]
    }
   ],
   "source": [
    "files = ['oct-08_singapore.txt', 'jul-10_cairo.txt', 'may-15_dhaka.txt',\n",
    " 'may-13_cairo.txt', 'oct-21_cairo.txt', 'jan-10_singapore.txt',\n",
    " 'jun-20_tokyo.txt', 'aug-06_jakarta.txt', 'dec-21_karachi.txt',\n",
    " 'jan-01_tokyo.txt']\n",
    "\n",
    "for file in files:\n",
    "    new_file = rename_my_file(file)\n",
    "    print(f\"{file} > {new_file}\")\n"
   ]
  },
  {
   "cell_type": "markdown",
   "id": "bbcbc5d4",
   "metadata": {},
   "source": [
    "### Exercise 4\n",
    "With the help of glob, use rename_my_file() to rename all the .txt files in the folder.\n",
    "\n",
    "Note that you might have to adjust your function rename_my_file() to accommodate the already renamed files."
   ]
  },
  {
   "cell_type": "code",
   "execution_count": null,
   "id": "ea608868",
   "metadata": {},
   "outputs": [],
   "source": [
    "### redefining rename_my_file ###\n",
    "def rename_my_file(old_file_name):\n",
    "    \"\"\" returns a string of new file name \"\"\"\n",
    "\n",
    "    try: # try to rename old file if in correct format\n",
    "        file_name = old_file_name.split('.')[0].lower() # actual file name without extension, account for casing\n",
    "\n",
    "        month = file_name.split('-')[0]\n",
    "        num_month = months[month] # numerical month from dict\n",
    "\n",
    "        date = file_name.split('_')[0].split('-')[1]\n",
    "        num_date = date if len(date) == 2 else '0' + date # if date is single digit\n",
    "\n",
    "        country_ext = file.split('_')[1].lower() # country and extension from original name, account for casing\n",
    "        return('-'.join((num_month, num_date, country_ext)))\n",
    "\n",
    "    except: # any raised error, if file not in correct format\n",
    "        return old_file_name\n",
    "\n",
    "### Renaming all .txt files in folder ###\n",
    "import os\n",
    "import glob\n",
    "\n",
    "for file in glob.glob('os-collaboration-exercise-data/*.txt'): # filtering out for only .txt files \n",
    "    new_file = rename_my_file(file)\n",
    "    new_file_path = os.path.join('os-collaboration-exercise-data', new_file) # new_file only contains actual file name without subfolder\n",
    "    os.rename(file, new_file_path)\n"
   ]
  },
  {
   "cell_type": "markdown",
   "id": "da1f1ef2",
   "metadata": {},
   "source": [
    "### Exercise 5\n",
    "Use a for loop to create a folder for each city.\n",
    "The list of cities is provided below for your convenience.\n",
    "\n",
    "['Cairo', 'Dhaka', 'Jakarta', 'Karachi', 'Manila',\n",
    " 'Melbourne', 'Osaka', 'Shanghai', 'Singapore', 'Tokyo']"
   ]
  },
  {
   "cell_type": "code",
   "execution_count": 104,
   "id": "4b37e5b1",
   "metadata": {},
   "outputs": [],
   "source": [
    "countries = ['Cairo', 'Dhaka', 'Jakarta', 'Karachi', 'Manila',\n",
    " 'Melbourne', 'Osaka', 'Shanghai', 'Singapore', 'Tokyo']\n",
    "\n",
    "import os\n",
    "for country in countries:\n",
    "    os.mkdir(country)"
   ]
  },
  {
   "cell_type": "markdown",
   "id": "5151d696",
   "metadata": {},
   "source": [
    "### Exercise 6\n",
    "Use glob to list all the files from Cairo.\n",
    "Now use a for loop and shutil.copy() to copy all the files related to Cairo to the corresponding folder you created."
   ]
  },
  {
   "cell_type": "code",
   "execution_count": null,
   "id": "dc5e879c",
   "metadata": {},
   "outputs": [],
   "source": [
    "import shutil\n",
    "for file in glob.glob('os-collaboration-exercise-data/*-cairo*'): # filtering for cairo files\n",
    "    shutil.copy(file, 'Cairo')\n"
   ]
  },
  {
   "cell_type": "markdown",
   "id": "e583b9d8",
   "metadata": {},
   "source": [
    "### Exercise 7\n",
    "Tweak your code to move all the files to the corresponding folders of all the cities."
   ]
  },
  {
   "cell_type": "code",
   "execution_count": null,
   "id": "3cd9227b",
   "metadata": {},
   "outputs": [],
   "source": [
    "import shutil\n",
    "\n",
    "other_countries = ['Dhaka', 'Jakarta', 'Karachi', 'Manila',\n",
    " 'Melbourne', 'Osaka', 'Shanghai', 'Singapore', 'Tokyo']\n",
    "\n",
    "for country in other_countries: # iterate through the remaining countries\n",
    "    for file in glob.glob(f'os-collaboration-exercise-data/*-{country.lower()}*'): # filter files for current country, ensure lower case of country due to naming \n",
    "        shutil.copy(file, country)"
   ]
  }
 ],
 "metadata": {
  "kernelspec": {
   "display_name": "base",
   "language": "python",
   "name": "python3"
  },
  "language_info": {
   "codemirror_mode": {
    "name": "ipython",
    "version": 3
   },
   "file_extension": ".py",
   "mimetype": "text/x-python",
   "name": "python",
   "nbconvert_exporter": "python",
   "pygments_lexer": "ipython3",
   "version": "3.13.5"
  },
  "toc": {
   "base_numbering": 1,
   "nav_menu": {},
   "number_sections": true,
   "sideBar": true,
   "skip_h1_title": false,
   "title_cell": "Table of Contents",
   "title_sidebar": "Contents",
   "toc_cell": false,
   "toc_position": {},
   "toc_section_display": true,
   "toc_window_display": false
  }
 },
 "nbformat": 4,
 "nbformat_minor": 5
}
