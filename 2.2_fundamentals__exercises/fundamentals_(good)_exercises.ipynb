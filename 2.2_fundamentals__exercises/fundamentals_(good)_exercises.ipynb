{
 "cells": [
  {
   "attachments": {},
   "cell_type": "markdown",
   "id": "123456",
   "metadata": {},
   "source": [
    "<div style=\"text-align:left;font-size:2em\"><span style=\"font-weight:bolder;font-size:1.25em\">SP2273 | Learning Portfolio</span><br><br><span style=\"font-weight:bold;color:darkred\">Fundamentals (Good) Exercises</span></div>"
   ]
  },
  {
   "cell_type": "markdown",
   "id": "f05d4a23",
   "metadata": {},
   "source": [
    "### Exercise 1 "
   ]
  },
  {
   "cell_type": "code",
   "execution_count": 8,
   "id": "f0dd4c84",
   "metadata": {},
   "outputs": [
    {
     "name": "stdout",
     "output_type": "stream",
     "text": [
      "How you doin test!\n",
      "My name is test and I am 30 years old.\n",
      "The value of 3.141592653589793 to 2 decimal places is: 3.14\n",
      "The value of 3.141592653589793 to 3 decimal places is: 3.142\n",
      "The value of 3.141592653589793 to 4 decimal places is: 3.1416\n",
      "Apple      $ 0.99\n",
      "Banana     $ 0.59\n",
      "Orange     $ 1.29\n"
     ]
    }
   ],
   "source": [
    "name = input('Insert name')\n",
    "print(f'How you doin {name}!')\n",
    "\n",
    "age = input('Insert age')\n",
    "print(f'My name is {name} and I am {age} years old.')\n",
    "\n",
    "pi = 3.141592653589793\n",
    "print(f'The value of {pi} to 2 decimal places is: {pi:.2f}')\n",
    "print(f'The value of {pi} to 3 decimal places is: {pi:.3f}')\n",
    "print(f'The value of {pi} to 4 decimal places is: {pi:.4f}')\n",
    "\n",
    "fruits = {'Apple': 0.99, 'Banana': 0.59, 'Orange': 1.29}\n",
    "for fruit in fruits:\n",
    "    print(f'{fruit:<10} ${fruits[fruit]:>5}')\n",
    "\n"
   ]
  },
  {
   "cell_type": "markdown",
   "id": "78b53e70",
   "metadata": {},
   "source": [
    "### Exercise 2"
   ]
  },
  {
   "cell_type": "code",
   "execution_count": 16,
   "id": "2d6be15e",
   "metadata": {},
   "outputs": [
    {
     "name": "stdout",
     "output_type": "stream",
     "text": [
      "Input is not a valid number\n"
     ]
    }
   ],
   "source": [
    "grades = {'A': [i for i in range(70,101)],\n",
    "          'B': [i for i in range(50,70)],\n",
    "          'C': [i for i in range(35,50)],\n",
    "          'Fail': [i for i in range(0, 35)]}\n",
    "\n",
    "def obtain_grade(no_grade):\n",
    "    if no_grade < 0: # check for neg input\n",
    "        print(f\"Student's grade is invalid as it is negative\")\n",
    "        return\n",
    "    \n",
    "    for letter, numbers in grades.items(): # iterate through dict\n",
    "        if no_grade in numbers: # check if score within range \n",
    "            print(f\"Student's letter grade is {letter}\") \n",
    "            return\n",
    "\n",
    "try:\n",
    "    no_grade = int(input(\"Enter the student's score\"))\n",
    "    obtain_grade(no_grade)\n",
    "\n",
    "except ValueError: # invalid input - not even an int\n",
    "    print(f'Input is not a valid number')"
   ]
  },
  {
   "cell_type": "markdown",
   "id": "b9da5450",
   "metadata": {},
   "source": [
    "### Exercise 3"
   ]
  },
  {
   "cell_type": "code",
   "execution_count": 20,
   "id": "7d0eb575",
   "metadata": {},
   "outputs": [
    {
     "name": "stdout",
     "output_type": "stream",
     "text": [
      "120\n",
      "Invalid input\n"
     ]
    }
   ],
   "source": [
    "def factorial(n):\n",
    "    if n < 0: # reject n if negative \n",
    "        return \"Invalid input\"\n",
    "    elif n == 0: # 0! = 1 \n",
    "        return 1\n",
    "    else:\n",
    "        result = 1\n",
    "        for number in range(1, n+1):\n",
    "            result *= number #  factorials should recursively multiply, not add\n",
    "        return result\n",
    "\n",
    "\n",
    "print(factorial(5))   # Testing, expected output: 120\n",
    "print(factorial(-1))  # Testing, expected output: Invalid input"
   ]
  }
 ],
 "metadata": {
  "kernelspec": {
   "display_name": "base",
   "language": "python",
   "name": "python3"
  },
  "language_info": {
   "codemirror_mode": {
    "name": "ipython",
    "version": 3
   },
   "file_extension": ".py",
   "mimetype": "text/x-python",
   "name": "python",
   "nbconvert_exporter": "python",
   "pygments_lexer": "ipython3",
   "version": "3.13.5"
  },
  "toc": {
   "base_numbering": 1,
   "nav_menu": {},
   "number_sections": true,
   "sideBar": true,
   "skip_h1_title": false,
   "title_cell": "Table of Contents",
   "title_sidebar": "Contents",
   "toc_cell": false,
   "toc_position": {},
   "toc_section_display": true,
   "toc_window_display": false
  }
 },
 "nbformat": 4,
 "nbformat_minor": 5
}
