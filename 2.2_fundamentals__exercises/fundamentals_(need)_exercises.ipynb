{
 "cells": [
  {
   "attachments": {},
   "cell_type": "markdown",
   "id": "123456",
   "metadata": {},
   "source": [
    "<div style=\"text-align:left;font-size:2em\"><span style=\"font-weight:bolder;font-size:1.25em\">SP2273 | Learning Portfolio</span><br><br><span style=\"font-weight:bold;color:darkred\">Fundamentals (Need) Exercises</span></div>"
   ]
  },
  {
   "cell_type": "markdown",
   "id": "0aff7af1",
   "metadata": {},
   "source": [
    "### Exercise 1\n",
    "\n",
    "1. Purely from memory, list as many of the basic Python features I mentioned in my notes as you remember. Use a Markdown cell for this list.\n",
    "\n",
    "    * Intepreted\n",
    "    * case-sensitive\n",
    "    * existence of comments\n",
    "    * importance of indentations\n",
    "    * difference between strings and variables\n",
    "\n",
    "2. Now, visit the notes and complete the list with the ones you missed.\n",
    "Indicate those you missed by putting them in italics.\n",
    "\n",
    "    * *Existence of functions*\n",
    "    * Intepreted\n",
    "    * case-sensitive\n",
    "    * existence of comments\n",
    "    * *= is not the same as ==*\n",
    "    * *Existence of if-else statements*\n",
    "    * importance of indentations\n",
    "    * difference between strings and variables \n",
    "    * difference between different types of brackets"
   ]
  },
  {
   "cell_type": "markdown",
   "id": "0352bcb9",
   "metadata": {},
   "source": [
    "### Exercise 2"
   ]
  },
  {
   "cell_type": "code",
   "execution_count": 2,
   "id": "be778ea5",
   "metadata": {},
   "outputs": [
    {
     "name": "stdout",
     "output_type": "stream",
     "text": [
      "3 4 5\n"
     ]
    }
   ],
   "source": [
    "import math\n",
    "x, y = 3, 4\n",
    "z = int(math.sqrt(x**2 + y**2))\n",
    "print(x, y, z)"
   ]
  },
  {
   "cell_type": "markdown",
   "id": "e2fb0d1e",
   "metadata": {},
   "source": [
    "### Exercise 3 ###"
   ]
  },
  {
   "cell_type": "markdown",
   "id": "2dae89d4",
   "metadata": {},
   "source": [
    "|Term|Description|\n",
    "|----|-----------|\n",
    "|Function|method|\n",
    "|Arguments|parameter fed to function|\n",
    "|Comments|comments not in code|\n",
    "|Indentations| creates a starting space before the code runs. Also signifies the start of certain code blocks|\n",
    "|.|To access an attribute from a given library (imported)|\n",
    "|:|Use after a keyword before certain code blocks|\n",
    "|[]|For lists|\n",
    "|[[],[]]|a list of lists|\n",
    "|{}|dictionary|"
   ]
  },
  {
   "cell_type": "markdown",
   "id": "5832d49f",
   "metadata": {},
   "source": [
    "### Exercise 4 ###\n",
    "\n",
    "5 / 2 = 2.5 # normal division, typecasts final int into a float if needed <br>\n",
    "5 // 2 = 2 # floor division <br>\n",
    "5 % 2 = 1 # modulus - takes the remainder"
   ]
  },
  {
   "cell_type": "code",
   "execution_count": null,
   "id": "f0ec7e15",
   "metadata": {},
   "outputs": [
    {
     "name": "stdout",
     "output_type": "stream",
     "text": [
      "2.5\n",
      "2\n",
      "1\n"
     ]
    }
   ],
   "source": [
    "print(5/2) # normal division\n",
    "print(5//2)# floor division\n",
    "print(5%2) #modulus"
   ]
  }
 ],
 "metadata": {
  "kernelspec": {
   "display_name": "base",
   "language": "python",
   "name": "python3"
  },
  "language_info": {
   "codemirror_mode": {
    "name": "ipython",
    "version": 3
   },
   "file_extension": ".py",
   "mimetype": "text/x-python",
   "name": "python",
   "nbconvert_exporter": "python",
   "pygments_lexer": "ipython3",
   "version": "3.13.5"
  },
  "toc": {
   "base_numbering": 1,
   "nav_menu": {},
   "number_sections": true,
   "sideBar": true,
   "skip_h1_title": false,
   "title_cell": "Table of Contents",
   "title_sidebar": "Contents",
   "toc_cell": false,
   "toc_position": {},
   "toc_section_display": true,
   "toc_window_display": false
  }
 },
 "nbformat": 4,
 "nbformat_minor": 5
}
