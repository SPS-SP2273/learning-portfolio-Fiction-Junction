{
 "cells": [
  {
   "attachments": {},
   "cell_type": "markdown",
   "id": "123456",
   "metadata": {},
   "source": [
    "<div style=\"text-align:left;font-size:2em\"><span style=\"font-weight:bolder;font-size:1.25em\">SP2273 | Learning Portfolio</span><br><br><span style=\"font-weight:bold;color:darkred\">Loops (Need) Exercises</span></div>"
   ]
  },
  {
   "cell_type": "markdown",
   "id": "833c11b8",
   "metadata": {},
   "source": [
    "### Exercise 1 ###\n",
    "You are provided with the following list of temperatures in Celsius. Write a quick Python snippet that converts each temperature to Fahrenheit and prints both temperatures as a Celsius, Fahrenheit pair."
   ]
  },
  {
   "cell_type": "code",
   "execution_count": 3,
   "id": "c1c6a989",
   "metadata": {},
   "outputs": [
    {
     "name": "stdout",
     "output_type": "stream",
     "text": [
      "Fahrenheit:-17.78, Celsius:0\n",
      "Fahrenheit:-12.78, Celsius:5\n",
      "Fahrenheit:-7.78, Celsius:10\n",
      "Fahrenheit:-2.78, Celsius:15\n",
      "Fahrenheit:2.22, Celsius:20\n",
      "Fahrenheit:7.22, Celsius:25\n",
      "Fahrenheit:12.22, Celsius:30\n",
      "Fahrenheit:17.22, Celsius:35\n",
      "Fahrenheit:22.22, Celsius:40\n",
      "Fahrenheit:27.22, Celsius:45\n",
      "Fahrenheit:32.22, Celsius:50\n"
     ]
    }
   ],
   "source": [
    "temperatures_celsius = [\n",
    "    0, 5, 10, 15, 20, 25,\n",
    "    30, 35, 40, 45, 50\n",
    "]\n",
    "\n",
    "# celsius to fahrenheit\n",
    "# celsius - 32 * 5/9\n",
    "\n",
    "for celsius in temperatures_celsius:\n",
    "    fahrenheit = celsius - 32 * 5/9\n",
    "    print(f\"Fahrenheit:{round(fahrenheit, 2)}, Celsius:{celsius}\")"
   ]
  },
  {
   "cell_type": "markdown",
   "id": "f794d6d2",
   "metadata": {},
   "source": [
    "### Exercise 2 ###\n",
    "Write a Python snippet that prints a multiplication table (up to 5) for numbers 1 through 5 using nested for loops. The output should be formatted as shown below:\n",
    "\n",
    "1 : 1   2   3   4   5   \n",
    "2 : 2   4   6   8   10  \n",
    "3 : 3   6   9   12  15  \n",
    "4 : 4   8   12  16  20  \n",
    "5 : 5   10  15  20  25  "
   ]
  },
  {
   "cell_type": "code",
   "execution_count": 13,
   "id": "7cfd9cc3",
   "metadata": {},
   "outputs": [
    {
     "name": "stdout",
     "output_type": "stream",
     "text": [
      "1: 1 2 3 4 5 \n",
      "\n",
      "2: 2 4 6 8 10 \n",
      "\n",
      "3: 3 6 9 12 15 \n",
      "\n",
      "4: 4 8 12 16 20 \n",
      "\n",
      "5: 5 10 15 20 25 \n",
      "\n"
     ]
    }
   ],
   "source": [
    "for i in range(1,6):\n",
    "    print(f\"{i}: \", end = '')\n",
    "    for j in range(1,6):\n",
    "        multiple = i * j\n",
    "        print(f\"{multiple} \", end = '')\n",
    "    print(\"\\n\")"
   ]
  },
  {
   "cell_type": "markdown",
   "id": "ae697a17",
   "metadata": {},
   "source": [
    "### Exercise 3 ###\n",
    "Using a for loop, run this experiment 10 times and, for each iteration, print out the number of heads.\n",
    "\n",
    "Your results should look something like:\n",
    "\n",
    "Experiment  1: No. of Heads = 4\n",
    "Experiment  2: No. of Heads = 2\n",
    "Experiment  3: No. of Heads = 8\n",
    "Experiment  4: No. of Heads = 5\n",
    "Experiment  5: No. of Heads = 8\n",
    "Experiment  6: No. of Heads = 5\n",
    "Experiment  7: No. of Heads = 4\n",
    "Experiment  8: No. of Heads = 6\n",
    "Experiment  9: No. of Heads = 2\n",
    "Experiment 10: No. of Heads = 4\n"
   ]
  },
  {
   "cell_type": "code",
   "execution_count": 17,
   "id": "7cf51bb8",
   "metadata": {},
   "outputs": [
    {
     "name": "stdout",
     "output_type": "stream",
     "text": [
      "Experiment 1: No. of Heads = 6\n",
      "Experiment 2: No. of Heads = 6\n",
      "Experiment 3: No. of Heads = 4\n",
      "Experiment 4: No. of Heads = 4\n",
      "Experiment 5: No. of Heads = 5\n",
      "Experiment 6: No. of Heads = 4\n",
      "Experiment 7: No. of Heads = 5\n",
      "Experiment 8: No. of Heads = 6\n",
      "Experiment 9: No. of Heads = 6\n",
      "Experiment 10: No. of Heads = 6\n"
     ]
    }
   ],
   "source": [
    "import numpy as np\n",
    "\n",
    "for exp_no in range(1, 11):\n",
    "    coin_arr = np.random.rand(10)\n",
    "    head_count = 0\n",
    "    for flip in coin_arr:\n",
    "        if flip > 0.5:\n",
    "            head_count += 1\n",
    "    print(f\"Experiment {exp_no}: No. of Heads = {head_count}\")"
   ]
  }
 ],
 "metadata": {
  "kernelspec": {
   "display_name": "base",
   "language": "python",
   "name": "python3"
  },
  "language_info": {
   "codemirror_mode": {
    "name": "ipython",
    "version": 3
   },
   "file_extension": ".py",
   "mimetype": "text/x-python",
   "name": "python",
   "nbconvert_exporter": "python",
   "pygments_lexer": "ipython3",
   "version": "3.13.5"
  },
  "toc": {
   "base_numbering": 1,
   "nav_menu": {},
   "number_sections": true,
   "sideBar": true,
   "skip_h1_title": false,
   "title_cell": "Table of Contents",
   "title_sidebar": "Contents",
   "toc_cell": false,
   "toc_position": {},
   "toc_section_display": true,
   "toc_window_display": false
  }
 },
 "nbformat": 4,
 "nbformat_minor": 5
}
